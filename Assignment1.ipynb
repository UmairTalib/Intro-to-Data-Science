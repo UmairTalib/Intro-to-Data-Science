{
 "cells": [
  {
   "cell_type": "markdown",
   "metadata": {},
   "source": [
    "# Umair Talib\n",
    "# Data Science Assignment # 1\n"
   ]
  },
  {
   "cell_type": "markdown",
   "metadata": {},
   "source": [
    "## Question 1\n",
    "### Write a Python program to convert temperatures to and from celsius, fahrenheit."
   ]
  },
  {
   "cell_type": "code",
   "execution_count": null,
   "metadata": {},
   "outputs": [],
   "source": [
    "def value_input():\n",
    "    c=0\n",
    "    while True:\n",
    "        try:\n",
    "            c=float(input('Enter Value'))\n",
    "        except ValueError:\n",
    "            print(\"Enter Valid Input\")\n",
    "        else:\n",
    "            break\n",
    "    return c\n",
    "            \n",
    "while True:\n",
    "    try:\n",
    "        inpt=int(input('Press 1 for celsius to fahrenheit and Press 2 for fehrenheit to celsius : '))\n",
    "    except ValueError:\n",
    "        print(\"Value must be integer\")\n",
    "    else:\n",
    "        break\n",
    "if inpt==1:\n",
    "    c=value_input()\n",
    "    f = (c*9/5)+32\n",
    "    print(c ,' celsius converted to : ' , f , ' fehrenheit')\n",
    "elif inpt==2:\n",
    "     f=value_input()\n",
    "     c = (f-32)*5/9\n",
    "     print(f ,' fehrenheit converted to : ' , c , ' celsius')\n",
    "    \n",
    "    "
   ]
  },
  {
   "cell_type": "markdown",
   "metadata": {},
   "source": [
    "## Question 2\n",
    "### Write a Python program to check if number is divisible by 7 and multiple of 5, between 1500 and 2700 (both included).\n"
   ]
  },
  {
   "cell_type": "code",
   "execution_count": null,
   "metadata": {},
   "outputs": [],
   "source": [
    "def value_input():\n",
    "    c=0\n",
    "    while True:\n",
    "        try:\n",
    "            c=int(input('Enter Value : '))\n",
    "        except ValueError:\n",
    "            print(\"Enter Valid Input\")\n",
    "        else:\n",
    "            break\n",
    "    return c\n",
    "\n",
    "inpt=value_input()\n",
    "if inpt in range(1500,2701):\n",
    "    if (inpt%7==0) & (inpt%5==0):\n",
    "        print(\"Number is valid\")\n",
    "    else:\n",
    "        print(\"Number is not valid\")\n",
    "else:\n",
    "    print(\"Number is not valid\")\n",
    "    \n",
    "        \n",
    "    \n"
   ]
  },
  {
   "cell_type": "markdown",
   "metadata": {},
   "source": [
    "## Question 3\n",
    "### Use the list in the cell below and write a function to return the maximum and minimum value in the list. The function will take the list an argument and return two values."
   ]
  },
  {
   "cell_type": "code",
   "execution_count": 6,
   "metadata": {},
   "outputs": [
    {
     "name": "stdout",
     "output_type": "stream",
     "text": [
      "23 25 72 12 89 44 12 69 79\n",
      "Maximum Value in list =  89\n",
      "Minimum Value in list =  12\n"
     ]
    }
   ],
   "source": [
    "def find_min_max(lst):\n",
    "    min=lst[0]\n",
    "    max=lst[0]\n",
    "    for i in lst:\n",
    "        if(i>max):\n",
    "            max=i\n",
    "        if(i<min):\n",
    "            min=i\n",
    "    return min , max\n",
    "lst = [23,25,72,12,89,44,12,69,79]\n",
    "min , max= find_min_max(lst)\n",
    "print(' '.join(map(str, lst)))\n",
    "print(\"Maximum Value in list = \",max)\n",
    "print(\"Minimum Value in list = \",min)"
   ]
  },
  {
   "cell_type": "markdown",
   "metadata": {},
   "source": [
    "## Question 4\n",
    "### Write a function to return the 2nd maximum and 2nd minimum value in the list. The function will take the list an argument and return two values"
   ]
  },
  {
   "cell_type": "code",
   "execution_count": 5,
   "metadata": {},
   "outputs": [
    {
     "name": "stdout",
     "output_type": "stream",
     "text": [
      "Second Maximum Value in list =  89\n",
      "Second Minimum Value in list =  12\n"
     ]
    }
   ],
   "source": [
    "def find_min_max(lst):\n",
    "    lst1=set(lst)\n",
    "    lst2=sorted(lst1)\n",
    "    return lst2[1],lst2[-2]\n",
    "\n",
    "lst = [101,23,25,72,12,89,44,12,69,79,22,8]\n",
    "min , max= find_min_max(lst)\n",
    "print(\"Second Maximum Value in list = \",max)\n",
    "print(\"Second Minimum Value in list = \",min)"
   ]
  },
  {
   "cell_type": "markdown",
   "metadata": {},
   "source": [
    "## Question 5\n",
    "### Write a program to find the following statistics from a list. Note: Don’t use any built-in method for this question.\n",
    "- Mean\n",
    "- Median\n",
    "- Mode\n",
    "- Variance"
   ]
  },
  {
   "cell_type": "code",
   "execution_count": 4,
   "metadata": {},
   "outputs": [
    {
     "name": "stdout",
     "output_type": "stream",
     "text": [
      "Mean =  53.95238095238095\n",
      "Variance =  979.473922902494\n",
      "Mode =  69\n",
      "Median =  69\n"
     ]
    }
   ],
   "source": [
    "lst = [101,23,25,72,12,89,44,12,69,79,22,8,13,22,69,89,69,69,69,79,98]\n",
    "# mean calculator\n",
    "sum=0\n",
    "size=len(lst)\n",
    "for i in lst:\n",
    "    sum=sum+i\n",
    "mean=sum/size\n",
    "\n",
    "# calculating variance\n",
    "deviations=[(x-mean)**2 for x in lst]\n",
    "devsum=0\n",
    "for i in deviations:\n",
    "    devsum=devsum+i\n",
    "variance=devsum/size\n",
    "\n",
    "# calculatating mode \n",
    "total_counter=0\n",
    "mode=0\n",
    "for i in lst:\n",
    "    counter=0\n",
    "    for j in lst:\n",
    "        if i==j:\n",
    "            counter=counter+1\n",
    "    if counter>total_counter:\n",
    "        total_counter=counter\n",
    "        mode=i\n",
    "\n",
    "# calculating median\n",
    "median=0\n",
    "for i in range(0,size):\n",
    "    for j in range(0,size-1):\n",
    "        if(lst[i]<lst[j]):\n",
    "            temp=lst[i]\n",
    "            lst[i]=lst[j]\n",
    "            lst[j]=temp\n",
    "\n",
    "if size%2==0:\n",
    "    median=(lst[size/2]+lst[(size/2)+1])/2\n",
    "else:\n",
    "    median=lst[int((size+1)/2)]\n",
    "    \n",
    "print(\"Mean = \",mean)\n",
    "print(\"Variance = \",variance)\n",
    "print(\"Mode = \",mode)\n",
    "print(\"Median = \",median)\n",
    "        \n",
    "        \n",
    "\n",
    "    \n",
    "    "
   ]
  },
  {
   "cell_type": "markdown",
   "metadata": {},
   "source": [
    "## Question 6\n",
    "### You have three strings each containing different text, but all three have some common words in them. Your task is to find the frequency of words in each string and with the use of dictionary and list.\n",
    "### The word will act as a 'key' in a dictionary where the value is a list containing the frequency of that word in all three strings.\n",
    "### For example Dictionary['the'] -> List[] -> frequency count. the index '0' will contain the count of str1 and '1' will contain the count of str2 and so on. Following are the sample strings:\n",
    "- str1 = \"a quick brown fox jumps over the lazy dog\"\n",
    "- str2 = \"this course can be complex but not complicated if learnt properly\"\n",
    "- str3 = \"the boeing plane max 8 was grounded all around the world for technical problems\""
   ]
  },
  {
   "cell_type": "code",
   "execution_count": 3,
   "metadata": {},
   "outputs": [
    {
     "name": "stdout",
     "output_type": "stream",
     "text": [
      "{'a': [1, 0, 0], 'quick': [1, 0, 0], 'brown': [1, 0, 0], 'fox': [1, 0, 0], 'jumps': [1, 0, 0], 'over': [1, 0, 0], 'the': [1, 0, 2], 'lazy': [1, 0, 0], 'dog': [1, 0, 0], 'this': [0, 1, 0], 'course': [0, 1, 0], 'can': [0, 1, 0], 'be': [0, 1, 0], 'complex': [0, 1, 0], 'but': [0, 1, 0], 'not': [0, 1, 0], 'complicated': [0, 1, 0], 'if': [0, 1, 0], 'learnt': [0, 1, 0], 'properly': [0, 1, 0], 'boeing': [0, 0, 1], 'plane': [0, 0, 1], 'max': [0, 0, 1], '8': [0, 0, 1], 'was': [0, 0, 1], 'grounded': [0, 0, 1], 'all': [0, 0, 1], 'around': [0, 0, 1], 'world': [0, 0, 1], 'for': [0, 0, 1], 'technical': [0, 0, 1], 'problems': [0, 0, 1]}\n"
     ]
    }
   ],
   "source": [
    "def convert(lst): \n",
    "     return (lst[0].split())\n",
    "def add_entry(str,dk):\n",
    "    str=convert(str)\n",
    "    for i in str:\n",
    "        dk[i]=[0,0,0]\n",
    "    return dk\n",
    "def count_freq(dk,str,number):\n",
    "    for i in str:\n",
    "        dk[i][number]=dk[i][number]+1\n",
    "    return dk\n",
    "\n",
    "dk={}\n",
    "str1 = [\"a quick brown fox jumps over the lazy dog\"]\n",
    "dk=add_entry(str1,dk)\n",
    "str2 = [\"this course can be complex but not complicated if learnt properly\"]\n",
    "dk=add_entry(str2,dk)\n",
    "str3 = [\"the boeing plane max 8 was grounded all around the world for technical problems\"]\n",
    "dk=add_entry(str3,dk)\n",
    "str1=convert(str1)\n",
    "dk=count_freq(dk,str1,0)\n",
    "str2=convert(str2)\n",
    "dk=count_freq(dk,str2,1)\n",
    "str3=convert(str3)\n",
    "dk=count_freq(dk,str3,2)\n",
    "print(dk)\n"
   ]
  },
  {
   "attachments": {
    "a1q7.png": {
     "image/png": "[encoded data removed]"
    }
   },
   "cell_type": "markdown",
   "metadata": {},
   "source": [
    "## Question 7\n",
    "### Write a program which will return ticket price for the following scenario\n",
    "![a1q7.png](attachment:a1q7.png)\n"
   ]
  },
  {
   "cell_type": "code",
   "execution_count": 1,
   "metadata": {},
   "outputs": [
    {
     "name": "stdout",
     "output_type": "stream",
     "text": [
      "Enter 1 if it is Wroking day and enter 2 for weekend1\n",
      "Enter 1 if status='OT' and enter 2 if status='M'1\n",
      "Enter 1 if time is b/w 6-19  and enter 2 if time is b/w 19.1-241\n",
      "Enter 1 if the age is b/w 0-16  and enter 2 if the age is b/w 16.1-60 if the age is b/w 60.1-1201\n",
      "Ticket price is =\n",
      "5\n"
     ]
    }
   ],
   "source": [
    "diction={1111:5,1112:10,1113:8,1121:6,1122:12,1123:8,1211:2.50,1212:5.0,\n",
    "         1213:4,1221:3,1222:6,1223:4,2111:7.50,2112:15,2113:12,2121:9.00,2122:18,2123:12,\n",
    "         2211:3.50,2212:7.00,2213:5.50,2221:4.0,2222:8.00,2223:5.50\n",
    "        }\n",
    "a=int(input(\"Enter 1 if it is Wroking day and enter 2 for weekend\"))\n",
    "b=int(input(\"Enter 1 if status='OT' and enter 2 if status='M'\"))\n",
    "c=int(input(\"Enter 1 if time is b/w 6-19  and enter 2 if time is b/w 19.1-24\"))\n",
    "d=int(input(\"Enter 1 if the age is b/w 0-16  and enter 2 if the age is b/w 16.1-60 if the age is b/w 60.1-120\"))\n",
    "tmp=[a,b,c,d]\n",
    "finalnum=0\n",
    "for x in tmp:\n",
    "    finalnum=(finalnum*10)+x\n",
    "    \n",
    "\n",
    " \n",
    "\n",
    "print(\"Ticket price is =\")\n",
    "print(diction[finalnum])"
   ]
  }
 ],
 "metadata": {
  "kernelspec": {
   "display_name": "Python 3",
   "language": "python",
   "name": "python3"
  },
  "language_info": {
   "codemirror_mode": {
    "name": "ipython",
    "version": 3
   },
   "file_extension": ".py",
   "mimetype": "text/x-python",
   "name": "python",
   "nbconvert_exporter": "python",
   "pygments_lexer": "ipython3",
   "version": "3.8.5"
  }
 },
 "nbformat": 4,
 "nbformat_minor": 4
}
